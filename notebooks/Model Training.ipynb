{
 "cells": [
  {
   "cell_type": "code",
   "execution_count": 363,
   "metadata": {},
   "outputs": [],
   "source": [
    "import pandas as pd"
   ]
  },
  {
   "cell_type": "code",
   "execution_count": 364,
   "metadata": {},
   "outputs": [],
   "source": [
    "df = pd.read_csv('data/clean_data.csv')"
   ]
  },
  {
   "cell_type": "code",
   "execution_count": 365,
   "metadata": {},
   "outputs": [
    {
     "name": "stdout",
     "output_type": "stream",
     "text": [
      "<class 'pandas.core.frame.DataFrame'>\n",
      "RangeIndex: 44564 entries, 0 to 44563\n",
      "Data columns (total 17 columns):\n",
      " #   Column                          Non-Null Count  Dtype  \n",
      "---  ------                          --------------  -----  \n",
      " 0   Delivery_person_Age             44564 non-null  float64\n",
      " 1   Delivery_person_Ratings         44564 non-null  float64\n",
      " 2   Weather_conditions              44564 non-null  object \n",
      " 3   Road_traffic_density            44564 non-null  object \n",
      " 4   Vehicle_condition               44564 non-null  int64  \n",
      " 5   Type_of_order                   44564 non-null  object \n",
      " 6   Type_of_vehicle                 44564 non-null  object \n",
      " 7   multiple_deliveries             44564 non-null  float64\n",
      " 8   Festival                        44564 non-null  object \n",
      " 9   City                            44564 non-null  object \n",
      " 10  Time_taken (min)                44564 non-null  int64  \n",
      " 11  Week_days                       44564 non-null  object \n",
      " 12  Time_Orderd_Hours               44564 non-null  int64  \n",
      " 13  Time_Orderd_Minutes             44564 non-null  int64  \n",
      " 14  Time_Order_picked_Hours         44564 non-null  int64  \n",
      " 15  Time_Order_picked_Minutes       44564 non-null  int64  \n",
      " 16  Distance_Resturant_to_Location  44564 non-null  float64\n",
      "dtypes: float64(4), int64(6), object(7)\n",
      "memory usage: 5.8+ MB\n"
     ]
    }
   ],
   "source": [
    "df.info()"
   ]
  },
  {
   "cell_type": "code",
   "execution_count": 366,
   "metadata": {},
   "outputs": [],
   "source": [
    "X = df.iloc[:,[0,1,3,7,8,16]]"
   ]
  },
  {
   "cell_type": "code",
   "execution_count": 392,
   "metadata": {},
   "outputs": [
    {
     "data": {
      "text/plain": [
       "['Time_taken (min)',\n",
       " 'Road_traffic_density',\n",
       " 'multiple_deliveries',\n",
       " 'Delivery_person_Ratings',\n",
       " 'Distance_Resturant_to_Location',\n",
       " 'Delivery_person_Age',\n",
       " 'Festival',\n",
       " 'Vehicle_condition',\n",
       " 'Time_Order_picked_Hours',\n",
       " 'Time_Orderd_Hours',\n",
       " 'Type_of_vehicle',\n",
       " 'City']"
      ]
     },
     "execution_count": 392,
     "metadata": {},
     "output_type": "execute_result"
    }
   ],
   "source": [
    "['Time_taken (min)', 'Road_traffic_density', 'multiple_deliveries',\n",
    "       'Delivery_person_Ratings', 'Distance_Resturant_to_Location',\n",
    "       'Delivery_person_Age', 'Festival', 'Vehicle_condition',\n",
    "       'Time_Order_picked_Hours', 'Time_Orderd_Hours', 'Type_of_vehicle',\n",
    "       'City']"
   ]
  },
  {
   "cell_type": "code",
   "execution_count": 368,
   "metadata": {},
   "outputs": [
    {
     "data": {
      "text/html": [
       "<div>\n",
       "<style scoped>\n",
       "    .dataframe tbody tr th:only-of-type {\n",
       "        vertical-align: middle;\n",
       "    }\n",
       "\n",
       "    .dataframe tbody tr th {\n",
       "        vertical-align: top;\n",
       "    }\n",
       "\n",
       "    .dataframe thead th {\n",
       "        text-align: right;\n",
       "    }\n",
       "</style>\n",
       "<table border=\"1\" class=\"dataframe\">\n",
       "  <thead>\n",
       "    <tr style=\"text-align: right;\">\n",
       "      <th></th>\n",
       "      <th>Delivery_person_Age</th>\n",
       "      <th>Delivery_person_Ratings</th>\n",
       "      <th>Road_traffic_density</th>\n",
       "      <th>multiple_deliveries</th>\n",
       "      <th>Festival</th>\n",
       "      <th>Distance_Resturant_to_Location</th>\n",
       "    </tr>\n",
       "  </thead>\n",
       "  <tbody>\n",
       "    <tr>\n",
       "      <th>0</th>\n",
       "      <td>36.0</td>\n",
       "      <td>4.2</td>\n",
       "      <td>Jam</td>\n",
       "      <td>3.0</td>\n",
       "      <td>No</td>\n",
       "      <td>10.280582</td>\n",
       "    </tr>\n",
       "    <tr>\n",
       "      <th>1</th>\n",
       "      <td>21.0</td>\n",
       "      <td>4.7</td>\n",
       "      <td>High</td>\n",
       "      <td>1.0</td>\n",
       "      <td>No</td>\n",
       "      <td>6.242319</td>\n",
       "    </tr>\n",
       "    <tr>\n",
       "      <th>2</th>\n",
       "      <td>23.0</td>\n",
       "      <td>4.7</td>\n",
       "      <td>Medium</td>\n",
       "      <td>1.0</td>\n",
       "      <td>No</td>\n",
       "      <td>13.787860</td>\n",
       "    </tr>\n",
       "    <tr>\n",
       "      <th>3</th>\n",
       "      <td>34.0</td>\n",
       "      <td>4.3</td>\n",
       "      <td>Low</td>\n",
       "      <td>0.0</td>\n",
       "      <td>No</td>\n",
       "      <td>2.930258</td>\n",
       "    </tr>\n",
       "    <tr>\n",
       "      <th>4</th>\n",
       "      <td>24.0</td>\n",
       "      <td>4.7</td>\n",
       "      <td>Jam</td>\n",
       "      <td>1.0</td>\n",
       "      <td>No</td>\n",
       "      <td>19.396618</td>\n",
       "    </tr>\n",
       "    <tr>\n",
       "      <th>...</th>\n",
       "      <td>...</td>\n",
       "      <td>...</td>\n",
       "      <td>...</td>\n",
       "      <td>...</td>\n",
       "      <td>...</td>\n",
       "      <td>...</td>\n",
       "    </tr>\n",
       "    <tr>\n",
       "      <th>44559</th>\n",
       "      <td>30.0</td>\n",
       "      <td>4.8</td>\n",
       "      <td>High</td>\n",
       "      <td>0.0</td>\n",
       "      <td>No</td>\n",
       "      <td>1.489846</td>\n",
       "    </tr>\n",
       "    <tr>\n",
       "      <th>44560</th>\n",
       "      <td>21.0</td>\n",
       "      <td>4.6</td>\n",
       "      <td>Jam</td>\n",
       "      <td>1.0</td>\n",
       "      <td>No</td>\n",
       "      <td>11.007735</td>\n",
       "    </tr>\n",
       "    <tr>\n",
       "      <th>44561</th>\n",
       "      <td>30.0</td>\n",
       "      <td>4.9</td>\n",
       "      <td>Low</td>\n",
       "      <td>0.0</td>\n",
       "      <td>No</td>\n",
       "      <td>4.657195</td>\n",
       "    </tr>\n",
       "    <tr>\n",
       "      <th>44562</th>\n",
       "      <td>20.0</td>\n",
       "      <td>4.7</td>\n",
       "      <td>High</td>\n",
       "      <td>1.0</td>\n",
       "      <td>No</td>\n",
       "      <td>6.232393</td>\n",
       "    </tr>\n",
       "    <tr>\n",
       "      <th>44563</th>\n",
       "      <td>23.0</td>\n",
       "      <td>4.9</td>\n",
       "      <td>Medium</td>\n",
       "      <td>1.0</td>\n",
       "      <td>No</td>\n",
       "      <td>12.074396</td>\n",
       "    </tr>\n",
       "  </tbody>\n",
       "</table>\n",
       "<p>44564 rows × 6 columns</p>\n",
       "</div>"
      ],
      "text/plain": [
       "       Delivery_person_Age  Delivery_person_Ratings Road_traffic_density   \n",
       "0                     36.0                      4.2                  Jam  \\\n",
       "1                     21.0                      4.7                 High   \n",
       "2                     23.0                      4.7               Medium   \n",
       "3                     34.0                      4.3                  Low   \n",
       "4                     24.0                      4.7                  Jam   \n",
       "...                    ...                      ...                  ...   \n",
       "44559                 30.0                      4.8                 High   \n",
       "44560                 21.0                      4.6                  Jam   \n",
       "44561                 30.0                      4.9                  Low   \n",
       "44562                 20.0                      4.7                 High   \n",
       "44563                 23.0                      4.9               Medium   \n",
       "\n",
       "       multiple_deliveries Festival  Distance_Resturant_to_Location  \n",
       "0                      3.0       No                       10.280582  \n",
       "1                      1.0       No                        6.242319  \n",
       "2                      1.0       No                       13.787860  \n",
       "3                      0.0       No                        2.930258  \n",
       "4                      1.0       No                       19.396618  \n",
       "...                    ...      ...                             ...  \n",
       "44559                  0.0       No                        1.489846  \n",
       "44560                  1.0       No                       11.007735  \n",
       "44561                  0.0       No                        4.657195  \n",
       "44562                  1.0       No                        6.232393  \n",
       "44563                  1.0       No                       12.074396  \n",
       "\n",
       "[44564 rows x 6 columns]"
      ]
     },
     "execution_count": 368,
     "metadata": {},
     "output_type": "execute_result"
    }
   ],
   "source": [
    "X"
   ]
  },
  {
   "cell_type": "code",
   "execution_count": 369,
   "metadata": {},
   "outputs": [],
   "source": [
    "y = df['Time_taken (min)']"
   ]
  },
  {
   "cell_type": "code",
   "execution_count": 370,
   "metadata": {},
   "outputs": [
    {
     "data": {
      "text/plain": [
       "0        46\n",
       "1        23\n",
       "2        21\n",
       "3        20\n",
       "4        41\n",
       "         ..\n",
       "44559    32\n",
       "44560    36\n",
       "44561    16\n",
       "44562    26\n",
       "44563    36\n",
       "Name: Time_taken (min), Length: 44564, dtype: int64"
      ]
     },
     "execution_count": 370,
     "metadata": {},
     "output_type": "execute_result"
    }
   ],
   "source": [
    "y"
   ]
  },
  {
   "cell_type": "code",
   "execution_count": 371,
   "metadata": {},
   "outputs": [],
   "source": [
    "cat_cols = X.select_dtypes(include='object').columns"
   ]
  },
  {
   "cell_type": "code",
   "execution_count": 372,
   "metadata": {},
   "outputs": [],
   "source": [
    "num_cols = X.select_dtypes(exclude='object').columns"
   ]
  },
  {
   "cell_type": "code",
   "execution_count": 373,
   "metadata": {},
   "outputs": [
    {
     "data": {
      "text/plain": [
       "Index(['Road_traffic_density', 'Festival'], dtype='object')"
      ]
     },
     "execution_count": 373,
     "metadata": {},
     "output_type": "execute_result"
    }
   ],
   "source": [
    "cat_cols"
   ]
  },
  {
   "cell_type": "code",
   "execution_count": 374,
   "metadata": {},
   "outputs": [],
   "source": [
    "Weather_conditions_categories =['Fog', 'Stormy', 'Sandstorms', 'Windy', 'Cloudy', 'Sunny']\n",
    "Road_traffic_density_categories=['Jam', 'High', 'Medium', 'Low']\n",
    "Type_of_order_categories=['Snack', 'Meal', 'Drinks', 'Buffet']\n",
    "Type_of_vehicle_categories=['motorcycle', 'scooter', 'electric_scooter']\n",
    "Festival_categories = ['No', 'Yes']\n",
    "City_categories = ['Metropolitian', 'Urban', 'Semi-Urban']\n",
    "Week_days_categories = ['Saturday', 'Sunday', 'Friday', 'Monday', 'Tuesday', 'Wednesday','Thursday']"
   ]
  },
  {
   "cell_type": "markdown",
   "metadata": {},
   "source": []
  },
  {
   "cell_type": "code",
   "execution_count": 375,
   "metadata": {},
   "outputs": [
    {
     "data": {
      "text/plain": [
       "array(['Saturday', 'Sunday', 'Friday', 'Monday', 'Tuesday', 'Wednesday',\n",
       "       'Thursday'], dtype=object)"
      ]
     },
     "execution_count": 375,
     "metadata": {},
     "output_type": "execute_result"
    }
   ],
   "source": [
    "df['Week_days'].unique()"
   ]
  },
  {
   "cell_type": "code",
   "execution_count": 376,
   "metadata": {},
   "outputs": [],
   "source": [
    "from sklearn.impute import SimpleImputer\n",
    "from sklearn.preprocessing import StandardScaler\n",
    "from sklearn.preprocessing import OrdinalEncoder\n",
    "from sklearn.pipeline import Pipeline\n",
    "from sklearn.compose import ColumnTransformer"
   ]
  },
  {
   "cell_type": "code",
   "execution_count": 377,
   "metadata": {},
   "outputs": [],
   "source": [
    "num_pipeline= Pipeline(\n",
    "    steps=[\n",
    "        (\"imputer\", SimpleImputer(strategy='median')),\n",
    "        (\"scaler\", StandardScaler())\n",
    "    ]\n",
    ")"
   ]
  },
  {
   "cell_type": "code",
   "execution_count": 378,
   "metadata": {},
   "outputs": [],
   "source": [
    "cat_pipeline = Pipeline(\n",
    "    steps=[\n",
    "        ('imputer', SimpleImputer(strategy='most_frequent')),\n",
    "        # ('ordinalencoder', OrdinalEncoder(categories=[Weather_conditions_categories,Road_traffic_density_categories,Type_of_order_categories,Type_of_vehicle_categories,Festival_categories,City_categories,Week_days_categories])),\n",
    "        ('ordinalencoder', OrdinalEncoder(categories=[Road_traffic_density_categories,Festival_categories])),\n",
    "        ('scaler', StandardScaler())\n",
    "    ]\n",
    ")\n"
   ]
  },
  {
   "cell_type": "code",
   "execution_count": 379,
   "metadata": {},
   "outputs": [],
   "source": [
    "preprocessor=ColumnTransformer([\n",
    "    ('num_pipeline', num_pipeline,num_cols ),\n",
    "    ('cat_pipeline', cat_pipeline, cat_cols)\n",
    "])"
   ]
  },
  {
   "cell_type": "code",
   "execution_count": 380,
   "metadata": {},
   "outputs": [],
   "source": [
    "from sklearn.model_selection import train_test_split"
   ]
  },
  {
   "cell_type": "code",
   "execution_count": 381,
   "metadata": {},
   "outputs": [],
   "source": [
    "X_train, X_test, y_train, y_test = train_test_split(X, y, test_size=0.20, random_state=42)"
   ]
  },
  {
   "cell_type": "code",
   "execution_count": 382,
   "metadata": {},
   "outputs": [],
   "source": [
    "X_train=pd.DataFrame(preprocessor.fit_transform(X_train),columns=preprocessor.get_feature_names_out())\n",
    "X_test=pd.DataFrame(preprocessor.transform(X_test),columns=preprocessor.get_feature_names_out())"
   ]
  },
  {
   "cell_type": "code",
   "execution_count": 383,
   "metadata": {},
   "outputs": [
    {
     "data": {
      "text/html": [
       "<div>\n",
       "<style scoped>\n",
       "    .dataframe tbody tr th:only-of-type {\n",
       "        vertical-align: middle;\n",
       "    }\n",
       "\n",
       "    .dataframe tbody tr th {\n",
       "        vertical-align: top;\n",
       "    }\n",
       "\n",
       "    .dataframe thead th {\n",
       "        text-align: right;\n",
       "    }\n",
       "</style>\n",
       "<table border=\"1\" class=\"dataframe\">\n",
       "  <thead>\n",
       "    <tr style=\"text-align: right;\">\n",
       "      <th></th>\n",
       "      <th>num_pipeline__Delivery_person_Age</th>\n",
       "      <th>num_pipeline__Delivery_person_Ratings</th>\n",
       "      <th>num_pipeline__multiple_deliveries</th>\n",
       "      <th>num_pipeline__Distance_Resturant_to_Location</th>\n",
       "      <th>cat_pipeline__Road_traffic_density</th>\n",
       "      <th>cat_pipeline__Festival</th>\n",
       "    </tr>\n",
       "  </thead>\n",
       "  <tbody>\n",
       "    <tr>\n",
       "      <th>0</th>\n",
       "      <td>-1.680369</td>\n",
       "      <td>-2.055867</td>\n",
       "      <td>-1.320419</td>\n",
       "      <td>-1.191266</td>\n",
       "      <td>1.106912</td>\n",
       "      <td>-0.139653</td>\n",
       "    </tr>\n",
       "    <tr>\n",
       "      <th>1</th>\n",
       "      <td>1.130443</td>\n",
       "      <td>0.523320</td>\n",
       "      <td>0.441078</td>\n",
       "      <td>-1.459228</td>\n",
       "      <td>1.106912</td>\n",
       "      <td>-0.139653</td>\n",
       "    </tr>\n",
       "    <tr>\n",
       "      <th>2</th>\n",
       "      <td>0.603416</td>\n",
       "      <td>0.200921</td>\n",
       "      <td>3.964072</td>\n",
       "      <td>1.195349</td>\n",
       "      <td>-1.298996</td>\n",
       "      <td>7.160600</td>\n",
       "    </tr>\n",
       "    <tr>\n",
       "      <th>3</th>\n",
       "      <td>0.427740</td>\n",
       "      <td>1.168117</td>\n",
       "      <td>0.441078</td>\n",
       "      <td>-0.641809</td>\n",
       "      <td>0.304942</td>\n",
       "      <td>-0.139653</td>\n",
       "    </tr>\n",
       "    <tr>\n",
       "      <th>4</th>\n",
       "      <td>1.657471</td>\n",
       "      <td>-0.121477</td>\n",
       "      <td>0.441078</td>\n",
       "      <td>-0.904513</td>\n",
       "      <td>1.106912</td>\n",
       "      <td>-0.139653</td>\n",
       "    </tr>\n",
       "    <tr>\n",
       "      <th>...</th>\n",
       "      <td>...</td>\n",
       "      <td>...</td>\n",
       "      <td>...</td>\n",
       "      <td>...</td>\n",
       "      <td>...</td>\n",
       "      <td>...</td>\n",
       "    </tr>\n",
       "    <tr>\n",
       "      <th>35646</th>\n",
       "      <td>0.954767</td>\n",
       "      <td>-1.088672</td>\n",
       "      <td>0.441078</td>\n",
       "      <td>0.734050</td>\n",
       "      <td>-1.298996</td>\n",
       "      <td>-0.139653</td>\n",
       "    </tr>\n",
       "    <tr>\n",
       "      <th>35647</th>\n",
       "      <td>-0.977666</td>\n",
       "      <td>0.845718</td>\n",
       "      <td>0.441078</td>\n",
       "      <td>-1.459305</td>\n",
       "      <td>-0.497027</td>\n",
       "      <td>-0.139653</td>\n",
       "    </tr>\n",
       "    <tr>\n",
       "      <th>35648</th>\n",
       "      <td>-1.329018</td>\n",
       "      <td>0.845718</td>\n",
       "      <td>-1.320419</td>\n",
       "      <td>-0.658158</td>\n",
       "      <td>-0.497027</td>\n",
       "      <td>-0.139653</td>\n",
       "    </tr>\n",
       "    <tr>\n",
       "      <th>35649</th>\n",
       "      <td>-0.274963</td>\n",
       "      <td>1.168117</td>\n",
       "      <td>-1.320419</td>\n",
       "      <td>-0.921855</td>\n",
       "      <td>1.106912</td>\n",
       "      <td>-0.139653</td>\n",
       "    </tr>\n",
       "    <tr>\n",
       "      <th>35650</th>\n",
       "      <td>0.252064</td>\n",
       "      <td>-0.121477</td>\n",
       "      <td>-1.320419</td>\n",
       "      <td>0.733961</td>\n",
       "      <td>0.304942</td>\n",
       "      <td>-0.139653</td>\n",
       "    </tr>\n",
       "  </tbody>\n",
       "</table>\n",
       "<p>35651 rows × 6 columns</p>\n",
       "</div>"
      ],
      "text/plain": [
       "       num_pipeline__Delivery_person_Age   \n",
       "0                              -1.680369  \\\n",
       "1                               1.130443   \n",
       "2                               0.603416   \n",
       "3                               0.427740   \n",
       "4                               1.657471   \n",
       "...                                  ...   \n",
       "35646                           0.954767   \n",
       "35647                          -0.977666   \n",
       "35648                          -1.329018   \n",
       "35649                          -0.274963   \n",
       "35650                           0.252064   \n",
       "\n",
       "       num_pipeline__Delivery_person_Ratings   \n",
       "0                                  -2.055867  \\\n",
       "1                                   0.523320   \n",
       "2                                   0.200921   \n",
       "3                                   1.168117   \n",
       "4                                  -0.121477   \n",
       "...                                      ...   \n",
       "35646                              -1.088672   \n",
       "35647                               0.845718   \n",
       "35648                               0.845718   \n",
       "35649                               1.168117   \n",
       "35650                              -0.121477   \n",
       "\n",
       "       num_pipeline__multiple_deliveries   \n",
       "0                              -1.320419  \\\n",
       "1                               0.441078   \n",
       "2                               3.964072   \n",
       "3                               0.441078   \n",
       "4                               0.441078   \n",
       "...                                  ...   \n",
       "35646                           0.441078   \n",
       "35647                           0.441078   \n",
       "35648                          -1.320419   \n",
       "35649                          -1.320419   \n",
       "35650                          -1.320419   \n",
       "\n",
       "       num_pipeline__Distance_Resturant_to_Location   \n",
       "0                                         -1.191266  \\\n",
       "1                                         -1.459228   \n",
       "2                                          1.195349   \n",
       "3                                         -0.641809   \n",
       "4                                         -0.904513   \n",
       "...                                             ...   \n",
       "35646                                      0.734050   \n",
       "35647                                     -1.459305   \n",
       "35648                                     -0.658158   \n",
       "35649                                     -0.921855   \n",
       "35650                                      0.733961   \n",
       "\n",
       "       cat_pipeline__Road_traffic_density  cat_pipeline__Festival  \n",
       "0                                1.106912               -0.139653  \n",
       "1                                1.106912               -0.139653  \n",
       "2                               -1.298996                7.160600  \n",
       "3                                0.304942               -0.139653  \n",
       "4                                1.106912               -0.139653  \n",
       "...                                   ...                     ...  \n",
       "35646                           -1.298996               -0.139653  \n",
       "35647                           -0.497027               -0.139653  \n",
       "35648                           -0.497027               -0.139653  \n",
       "35649                            1.106912               -0.139653  \n",
       "35650                            0.304942               -0.139653  \n",
       "\n",
       "[35651 rows x 6 columns]"
      ]
     },
     "execution_count": 383,
     "metadata": {},
     "output_type": "execute_result"
    }
   ],
   "source": [
    "X_train"
   ]
  },
  {
   "cell_type": "code",
   "execution_count": 384,
   "metadata": {},
   "outputs": [],
   "source": [
    "from sklearn.linear_model import LinearRegression, Lasso, Ridge, ElasticNet\n",
    "from sklearn.metrics import r2_score, mean_absolute_error, mean_squared_error"
   ]
  },
  {
   "cell_type": "code",
   "execution_count": 385,
   "metadata": {},
   "outputs": [
    {
     "data": {
      "text/html": [
       "<style>#sk-container-id-16 {color: black;background-color: white;}#sk-container-id-16 pre{padding: 0;}#sk-container-id-16 div.sk-toggleable {background-color: white;}#sk-container-id-16 label.sk-toggleable__label {cursor: pointer;display: block;width: 100%;margin-bottom: 0;padding: 0.3em;box-sizing: border-box;text-align: center;}#sk-container-id-16 label.sk-toggleable__label-arrow:before {content: \"▸\";float: left;margin-right: 0.25em;color: #696969;}#sk-container-id-16 label.sk-toggleable__label-arrow:hover:before {color: black;}#sk-container-id-16 div.sk-estimator:hover label.sk-toggleable__label-arrow:before {color: black;}#sk-container-id-16 div.sk-toggleable__content {max-height: 0;max-width: 0;overflow: hidden;text-align: left;background-color: #f0f8ff;}#sk-container-id-16 div.sk-toggleable__content pre {margin: 0.2em;color: black;border-radius: 0.25em;background-color: #f0f8ff;}#sk-container-id-16 input.sk-toggleable__control:checked~div.sk-toggleable__content {max-height: 200px;max-width: 100%;overflow: auto;}#sk-container-id-16 input.sk-toggleable__control:checked~label.sk-toggleable__label-arrow:before {content: \"▾\";}#sk-container-id-16 div.sk-estimator input.sk-toggleable__control:checked~label.sk-toggleable__label {background-color: #d4ebff;}#sk-container-id-16 div.sk-label input.sk-toggleable__control:checked~label.sk-toggleable__label {background-color: #d4ebff;}#sk-container-id-16 input.sk-hidden--visually {border: 0;clip: rect(1px 1px 1px 1px);clip: rect(1px, 1px, 1px, 1px);height: 1px;margin: -1px;overflow: hidden;padding: 0;position: absolute;width: 1px;}#sk-container-id-16 div.sk-estimator {font-family: monospace;background-color: #f0f8ff;border: 1px dotted black;border-radius: 0.25em;box-sizing: border-box;margin-bottom: 0.5em;}#sk-container-id-16 div.sk-estimator:hover {background-color: #d4ebff;}#sk-container-id-16 div.sk-parallel-item::after {content: \"\";width: 100%;border-bottom: 1px solid gray;flex-grow: 1;}#sk-container-id-16 div.sk-label:hover label.sk-toggleable__label {background-color: #d4ebff;}#sk-container-id-16 div.sk-serial::before {content: \"\";position: absolute;border-left: 1px solid gray;box-sizing: border-box;top: 0;bottom: 0;left: 50%;z-index: 0;}#sk-container-id-16 div.sk-serial {display: flex;flex-direction: column;align-items: center;background-color: white;padding-right: 0.2em;padding-left: 0.2em;position: relative;}#sk-container-id-16 div.sk-item {position: relative;z-index: 1;}#sk-container-id-16 div.sk-parallel {display: flex;align-items: stretch;justify-content: center;background-color: white;position: relative;}#sk-container-id-16 div.sk-item::before, #sk-container-id-16 div.sk-parallel-item::before {content: \"\";position: absolute;border-left: 1px solid gray;box-sizing: border-box;top: 0;bottom: 0;left: 50%;z-index: -1;}#sk-container-id-16 div.sk-parallel-item {display: flex;flex-direction: column;z-index: 1;position: relative;background-color: white;}#sk-container-id-16 div.sk-parallel-item:first-child::after {align-self: flex-end;width: 50%;}#sk-container-id-16 div.sk-parallel-item:last-child::after {align-self: flex-start;width: 50%;}#sk-container-id-16 div.sk-parallel-item:only-child::after {width: 0;}#sk-container-id-16 div.sk-dashed-wrapped {border: 1px dashed gray;margin: 0 0.4em 0.5em 0.4em;box-sizing: border-box;padding-bottom: 0.4em;background-color: white;}#sk-container-id-16 div.sk-label label {font-family: monospace;font-weight: bold;display: inline-block;line-height: 1.2em;}#sk-container-id-16 div.sk-label-container {text-align: center;}#sk-container-id-16 div.sk-container {/* jupyter's `normalize.less` sets `[hidden] { display: none; }` but bootstrap.min.css set `[hidden] { display: none !important; }` so we also need the `!important` here to be able to override the default hidden behavior on the sphinx rendered scikit-learn.org. See: https://github.com/scikit-learn/scikit-learn/issues/21755 */display: inline-block !important;position: relative;}#sk-container-id-16 div.sk-text-repr-fallback {display: none;}</style><div id=\"sk-container-id-16\" class=\"sk-top-container\"><div class=\"sk-text-repr-fallback\"><pre>LinearRegression()</pre><b>In a Jupyter environment, please rerun this cell to show the HTML representation or trust the notebook. <br />On GitHub, the HTML representation is unable to render, please try loading this page with nbviewer.org.</b></div><div class=\"sk-container\" hidden><div class=\"sk-item\"><div class=\"sk-estimator sk-toggleable\"><input class=\"sk-toggleable__control sk-hidden--visually\" id=\"sk-estimator-id-16\" type=\"checkbox\" checked><label for=\"sk-estimator-id-16\" class=\"sk-toggleable__label sk-toggleable__label-arrow\">LinearRegression</label><div class=\"sk-toggleable__content\"><pre>LinearRegression()</pre></div></div></div></div></div>"
      ],
      "text/plain": [
       "LinearRegression()"
      ]
     },
     "execution_count": 385,
     "metadata": {},
     "output_type": "execute_result"
    }
   ],
   "source": [
    "regression = LinearRegression()\n",
    "regression.fit(X_train, y_train)"
   ]
  },
  {
   "cell_type": "code",
   "execution_count": 386,
   "metadata": {},
   "outputs": [
    {
     "data": {
      "text/plain": [
       "0.4837506658506936"
      ]
     },
     "execution_count": 386,
     "metadata": {},
     "output_type": "execute_result"
    }
   ],
   "source": [
    "regression.score(X_test,y_test)"
   ]
  },
  {
   "cell_type": "code",
   "execution_count": 387,
   "metadata": {},
   "outputs": [
    {
     "data": {
      "text/html": [
       "<div>\n",
       "<style scoped>\n",
       "    .dataframe tbody tr th:only-of-type {\n",
       "        vertical-align: middle;\n",
       "    }\n",
       "\n",
       "    .dataframe tbody tr th {\n",
       "        vertical-align: top;\n",
       "    }\n",
       "\n",
       "    .dataframe thead th {\n",
       "        text-align: right;\n",
       "    }\n",
       "</style>\n",
       "<table border=\"1\" class=\"dataframe\">\n",
       "  <thead>\n",
       "    <tr style=\"text-align: right;\">\n",
       "      <th></th>\n",
       "      <th>num_pipeline__Delivery_person_Age</th>\n",
       "      <th>num_pipeline__Delivery_person_Ratings</th>\n",
       "      <th>num_pipeline__multiple_deliveries</th>\n",
       "      <th>num_pipeline__Distance_Resturant_to_Location</th>\n",
       "      <th>cat_pipeline__Road_traffic_density</th>\n",
       "      <th>cat_pipeline__Festival</th>\n",
       "    </tr>\n",
       "  </thead>\n",
       "  <tbody>\n",
       "    <tr>\n",
       "      <th>0</th>\n",
       "      <td>-1.680369</td>\n",
       "      <td>-2.055867</td>\n",
       "      <td>-1.320419</td>\n",
       "      <td>-1.191266</td>\n",
       "      <td>1.106912</td>\n",
       "      <td>-0.139653</td>\n",
       "    </tr>\n",
       "    <tr>\n",
       "      <th>1</th>\n",
       "      <td>1.130443</td>\n",
       "      <td>0.523320</td>\n",
       "      <td>0.441078</td>\n",
       "      <td>-1.459228</td>\n",
       "      <td>1.106912</td>\n",
       "      <td>-0.139653</td>\n",
       "    </tr>\n",
       "    <tr>\n",
       "      <th>2</th>\n",
       "      <td>0.603416</td>\n",
       "      <td>0.200921</td>\n",
       "      <td>3.964072</td>\n",
       "      <td>1.195349</td>\n",
       "      <td>-1.298996</td>\n",
       "      <td>7.160600</td>\n",
       "    </tr>\n",
       "    <tr>\n",
       "      <th>3</th>\n",
       "      <td>0.427740</td>\n",
       "      <td>1.168117</td>\n",
       "      <td>0.441078</td>\n",
       "      <td>-0.641809</td>\n",
       "      <td>0.304942</td>\n",
       "      <td>-0.139653</td>\n",
       "    </tr>\n",
       "    <tr>\n",
       "      <th>4</th>\n",
       "      <td>1.657471</td>\n",
       "      <td>-0.121477</td>\n",
       "      <td>0.441078</td>\n",
       "      <td>-0.904513</td>\n",
       "      <td>1.106912</td>\n",
       "      <td>-0.139653</td>\n",
       "    </tr>\n",
       "    <tr>\n",
       "      <th>...</th>\n",
       "      <td>...</td>\n",
       "      <td>...</td>\n",
       "      <td>...</td>\n",
       "      <td>...</td>\n",
       "      <td>...</td>\n",
       "      <td>...</td>\n",
       "    </tr>\n",
       "    <tr>\n",
       "      <th>35646</th>\n",
       "      <td>0.954767</td>\n",
       "      <td>-1.088672</td>\n",
       "      <td>0.441078</td>\n",
       "      <td>0.734050</td>\n",
       "      <td>-1.298996</td>\n",
       "      <td>-0.139653</td>\n",
       "    </tr>\n",
       "    <tr>\n",
       "      <th>35647</th>\n",
       "      <td>-0.977666</td>\n",
       "      <td>0.845718</td>\n",
       "      <td>0.441078</td>\n",
       "      <td>-1.459305</td>\n",
       "      <td>-0.497027</td>\n",
       "      <td>-0.139653</td>\n",
       "    </tr>\n",
       "    <tr>\n",
       "      <th>35648</th>\n",
       "      <td>-1.329018</td>\n",
       "      <td>0.845718</td>\n",
       "      <td>-1.320419</td>\n",
       "      <td>-0.658158</td>\n",
       "      <td>-0.497027</td>\n",
       "      <td>-0.139653</td>\n",
       "    </tr>\n",
       "    <tr>\n",
       "      <th>35649</th>\n",
       "      <td>-0.274963</td>\n",
       "      <td>1.168117</td>\n",
       "      <td>-1.320419</td>\n",
       "      <td>-0.921855</td>\n",
       "      <td>1.106912</td>\n",
       "      <td>-0.139653</td>\n",
       "    </tr>\n",
       "    <tr>\n",
       "      <th>35650</th>\n",
       "      <td>0.252064</td>\n",
       "      <td>-0.121477</td>\n",
       "      <td>-1.320419</td>\n",
       "      <td>0.733961</td>\n",
       "      <td>0.304942</td>\n",
       "      <td>-0.139653</td>\n",
       "    </tr>\n",
       "  </tbody>\n",
       "</table>\n",
       "<p>35651 rows × 6 columns</p>\n",
       "</div>"
      ],
      "text/plain": [
       "       num_pipeline__Delivery_person_Age   \n",
       "0                              -1.680369  \\\n",
       "1                               1.130443   \n",
       "2                               0.603416   \n",
       "3                               0.427740   \n",
       "4                               1.657471   \n",
       "...                                  ...   \n",
       "35646                           0.954767   \n",
       "35647                          -0.977666   \n",
       "35648                          -1.329018   \n",
       "35649                          -0.274963   \n",
       "35650                           0.252064   \n",
       "\n",
       "       num_pipeline__Delivery_person_Ratings   \n",
       "0                                  -2.055867  \\\n",
       "1                                   0.523320   \n",
       "2                                   0.200921   \n",
       "3                                   1.168117   \n",
       "4                                  -0.121477   \n",
       "...                                      ...   \n",
       "35646                              -1.088672   \n",
       "35647                               0.845718   \n",
       "35648                               0.845718   \n",
       "35649                               1.168117   \n",
       "35650                              -0.121477   \n",
       "\n",
       "       num_pipeline__multiple_deliveries   \n",
       "0                              -1.320419  \\\n",
       "1                               0.441078   \n",
       "2                               3.964072   \n",
       "3                               0.441078   \n",
       "4                               0.441078   \n",
       "...                                  ...   \n",
       "35646                           0.441078   \n",
       "35647                           0.441078   \n",
       "35648                          -1.320419   \n",
       "35649                          -1.320419   \n",
       "35650                          -1.320419   \n",
       "\n",
       "       num_pipeline__Distance_Resturant_to_Location   \n",
       "0                                         -1.191266  \\\n",
       "1                                         -1.459228   \n",
       "2                                          1.195349   \n",
       "3                                         -0.641809   \n",
       "4                                         -0.904513   \n",
       "...                                             ...   \n",
       "35646                                      0.734050   \n",
       "35647                                     -1.459305   \n",
       "35648                                     -0.658158   \n",
       "35649                                     -0.921855   \n",
       "35650                                      0.733961   \n",
       "\n",
       "       cat_pipeline__Road_traffic_density  cat_pipeline__Festival  \n",
       "0                                1.106912               -0.139653  \n",
       "1                                1.106912               -0.139653  \n",
       "2                               -1.298996                7.160600  \n",
       "3                                0.304942               -0.139653  \n",
       "4                                1.106912               -0.139653  \n",
       "...                                   ...                     ...  \n",
       "35646                           -1.298996               -0.139653  \n",
       "35647                           -0.497027               -0.139653  \n",
       "35648                           -0.497027               -0.139653  \n",
       "35649                            1.106912               -0.139653  \n",
       "35650                            0.304942               -0.139653  \n",
       "\n",
       "[35651 rows x 6 columns]"
      ]
     },
     "execution_count": 387,
     "metadata": {},
     "output_type": "execute_result"
    }
   ],
   "source": [
    "X_train"
   ]
  },
  {
   "cell_type": "code",
   "execution_count": 388,
   "metadata": {},
   "outputs": [],
   "source": [
    "import numpy as np"
   ]
  },
  {
   "cell_type": "code",
   "execution_count": 389,
   "metadata": {},
   "outputs": [],
   "source": [
    "def evaluate_model(true, predicted):\n",
    "    mae = mean_absolute_error(true, predicted)\n",
    "    mse = mean_squared_error(true, predicted)\n",
    "    rmse = np.sqrt(mean_squared_error(true, predicted))\n",
    "    r2_squre = r2_score(true, predicted)\n",
    "\n",
    "    return mae, rmse, r2_squre\n"
   ]
  },
  {
   "cell_type": "code",
   "execution_count": 390,
   "metadata": {},
   "outputs": [
    {
     "name": "stdout",
     "output_type": "stream",
     "text": [
      "LinearRegression\n",
      "model Training performance\n",
      "RMSE:  6.74423021010064\n",
      "MAE:  5.320816725408179\n",
      "R2_Square:  0.4837506658506936\n",
      "===================================\n",
      "\n",
      "\n",
      "Lasso\n",
      "model Training performance\n",
      "RMSE:  7.032975908629033\n",
      "MAE:  5.572219859969871\n",
      "R2_Square:  0.43859924607734135\n",
      "===================================\n",
      "\n",
      "\n",
      "Ridge\n",
      "model Training performance\n",
      "RMSE:  6.7442293557262\n",
      "MAE:  5.320814701441175\n",
      "R2_Square:  0.4837507966499677\n",
      "===================================\n",
      "\n",
      "\n",
      "ElasticNet\n",
      "model Training performance\n",
      "RMSE:  7.146986142678009\n",
      "MAE:  5.678036808842764\n",
      "R2_Square:  0.4202501938064873\n",
      "===================================\n",
      "\n",
      "\n"
     ]
    }
   ],
   "source": [
    "models = {\n",
    "    \"LinearRegression\": LinearRegression(),\n",
    "    \"Lasso\": Lasso(),\n",
    "    \"Ridge\": Ridge(),\n",
    "    \"ElasticNet\": ElasticNet(),\n",
    "}\n",
    "\n",
    "train_model_list =[]\n",
    "model_list = []\n",
    "r2_list = []\n",
    "\n",
    "for i in range(len(list(models))):\n",
    "    model = list(models.values())[i]\n",
    "    model.fit(X_train, y_train)\n",
    "\n",
    "    y_predict = model.predict(X_test)\n",
    "\n",
    "    mae, rmse, r2_squre = evaluate_model(y_test, y_predict)\n",
    "\n",
    "    print(list(models.keys())[i])\n",
    "\n",
    "    model_list.append(list(models.keys())[i])\n",
    "\n",
    "    print(\"model Training performance\")\n",
    "    print(\"RMSE: \", rmse)\n",
    "    print(\"MAE: \", mae)\n",
    "    print(\"R2_Square: \", r2_squre)\n",
    "\n",
    "    r2_list.append(r2_squre)\n",
    "\n",
    "    print(\"=\"*35)\n",
    "    print(\"\\n\")"
   ]
  },
  {
   "cell_type": "code",
   "execution_count": null,
   "metadata": {},
   "outputs": [],
   "source": []
  },
  {
   "cell_type": "code",
   "execution_count": null,
   "metadata": {},
   "outputs": [],
   "source": []
  },
  {
   "cell_type": "code",
   "execution_count": null,
   "metadata": {},
   "outputs": [],
   "source": []
  },
  {
   "cell_type": "code",
   "execution_count": null,
   "metadata": {},
   "outputs": [],
   "source": []
  },
  {
   "cell_type": "code",
   "execution_count": null,
   "metadata": {},
   "outputs": [],
   "source": []
  }
 ],
 "metadata": {
  "kernelspec": {
   "display_name": "Python 3",
   "language": "python",
   "name": "python3"
  },
  "language_info": {
   "codemirror_mode": {
    "name": "ipython",
    "version": 3
   },
   "file_extension": ".py",
   "mimetype": "text/x-python",
   "name": "python",
   "nbconvert_exporter": "python",
   "pygments_lexer": "ipython3",
   "version": "3.8.0"
  },
  "orig_nbformat": 4
 },
 "nbformat": 4,
 "nbformat_minor": 2
}
